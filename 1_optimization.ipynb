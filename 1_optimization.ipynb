{
 "cells": [
  {
   "cell_type": "code",
   "execution_count": null,
   "metadata": {
    "collapsed": true
   },
   "outputs": [],
   "source": [
    "%matplotlib inline\n",
    "from matplotlib import pyplot as plt\n",
    "\n",
    "import torch\n",
    "from torch import nn\n",
    "from torch.nn import Parameter\n",
    "from torch.autograd import Variable"
   ]
  },
  {
   "cell_type": "markdown",
   "metadata": {},
   "source": [
    "## Optimization"
   ]
  },
  {
   "cell_type": "code",
   "execution_count": null,
   "metadata": {},
   "outputs": [],
   "source": [
    "x = Variable(torch.Tensor([[1.0, 1.4], \n",
    "                           [1.0, 3.1], \n",
    "                           [1.0, 3.6], \n",
    "                           [1.0, 4.2], \n",
    "                           [1.0, 6.1], \n",
    "                           [1.0, 8.0]]))\n",
    "y = Variable(torch.Tensor([1.4, 3.1, 3.6, 4.2, 6.1, 8.0]))\n",
    "\n",
    "noise = Variable(torch.randn(y.size()))\n",
    "y.add_(0.1 * noise)  # let's add noise to make it more complicated :)"
   ]
  },
  {
   "cell_type": "code",
   "execution_count": null,
   "metadata": {
    "collapsed": true
   },
   "outputs": [],
   "source": [
    "weights = Variable(torch.randn(2, 1), requires_grad=True)\n",
    "weights2 = Variable(torch.Tensor([[0.], [1.]]))"
   ]
  },
  {
   "cell_type": "code",
   "execution_count": null,
   "metadata": {},
   "outputs": [],
   "source": [
    "# random weights\n",
    "weights"
   ]
  },
  {
   "cell_type": "code",
   "execution_count": null,
   "metadata": {},
   "outputs": [],
   "source": [
    "# at some point we want them to become sth like\n",
    "weights2"
   ]
  },
  {
   "cell_type": "markdown",
   "metadata": {},
   "source": [
    "## Calculating functions each time"
   ]
  },
  {
   "cell_type": "code",
   "execution_count": null,
   "metadata": {},
   "outputs": [],
   "source": [
    "loss1 = []\n",
    "\n",
    "for i in range(10000):\n",
    "\n",
    "    net_output = x.mm(weights).t()\n",
    "    loss = torch.mean((net_output - y)**2)\n",
    "    loss.backward()\n",
    "    \n",
    "    weights.data.add_(-0.01 * weights.grad.data)\n",
    "    weights.grad.data.zero_()\n",
    "    # gradients are being added cumulatively, so they need zeroing after each update!\n",
    "    \n",
    "    loss1.append(loss.item())"
   ]
  },
  {
   "cell_type": "code",
   "execution_count": null,
   "metadata": {},
   "outputs": [],
   "source": [
    "x.mm(weights2).t()"
   ]
  },
  {
   "cell_type": "code",
   "execution_count": null,
   "metadata": {},
   "outputs": [],
   "source": [
    "# new, modified weights\n",
    "weights"
   ]
  },
  {
   "cell_type": "code",
   "execution_count": null,
   "metadata": {},
   "outputs": [],
   "source": [
    "print(\"Minimal loss: {:.3f}\".format(loss1[-1]))\n",
    "plt.plot(range(len(loss1)), loss1)"
   ]
  },
  {
   "cell_type": "markdown",
   "metadata": {},
   "source": [
    "## Module\n",
    "\n",
    "It is very useful to create a network as a class.\n",
    "Use `Parameter` instead of `Variable`. In this case it:\n",
    "\n",
    "* by default computes gradient for it\n",
    "* registers it as a trainable parameters for optimizer"
   ]
  },
  {
   "cell_type": "code",
   "execution_count": null,
   "metadata": {
    "collapsed": true
   },
   "outputs": [],
   "source": [
    "class Model(nn.Module):\n",
    "    \n",
    "    def __init__(self):\n",
    "        super(Model, self).__init__()\n",
    "        self.weights = Parameter(torch.zeros(2, 1))\n",
    "    \n",
    "    def forward(self, x):\n",
    "        output = x.mm(self.weights)\n",
    "        return output.view(-1)"
   ]
  },
  {
   "cell_type": "code",
   "execution_count": null,
   "metadata": {
    "collapsed": true
   },
   "outputs": [],
   "source": [
    "model = Model()\n",
    "criterion = torch.nn.MSELoss()\n",
    "optimizer = torch.optim.SGD(model.parameters(), lr=1e-4)"
   ]
  },
  {
   "cell_type": "code",
   "execution_count": null,
   "metadata": {},
   "outputs": [],
   "source": [
    "list(model.parameters())"
   ]
  },
  {
   "cell_type": "code",
   "execution_count": null,
   "metadata": {
    "collapsed": true
   },
   "outputs": [],
   "source": [
    "import torch.nn.functional as F"
   ]
  },
  {
   "cell_type": "code",
   "execution_count": null,
   "metadata": {},
   "outputs": [],
   "source": [
    "loss2 = []\n",
    "for i in range(1000):\n",
    "    optimizer.zero_grad()\n",
    "    outputs = model(x)\n",
    "    \n",
    "    loss = criterion(outputs, y)\n",
    "    loss2.append(loss.item())\n",
    "    loss.backward()        \n",
    "\n",
    "    optimizer.step()"
   ]
  },
  {
   "cell_type": "code",
   "execution_count": null,
   "metadata": {},
   "outputs": [],
   "source": [
    "print(\"Minimal loss: {:.3f}\".format(loss1[-1]))\n",
    "plt.plot(range(len(loss2)), loss2)"
   ]
  },
  {
   "cell_type": "code",
   "execution_count": null,
   "metadata": {},
   "outputs": [],
   "source": [
    "list(model.parameters())"
   ]
  },
  {
   "cell_type": "markdown",
   "metadata": {},
   "source": [
    "## Module - version with nn.Linear \n",
    "\n",
    "Some parameters can be directly used from `nn` library. It makes it slightly simpler than manually writing all expressions.\n"
   ]
  },
  {
   "cell_type": "code",
   "execution_count": null,
   "metadata": {
    "collapsed": true
   },
   "outputs": [],
   "source": [
    "class Model(torch.nn.Module):\n",
    "    \n",
    "    def __init__(self):\n",
    "        super(Model, self).__init__()\n",
    "        self.fc = nn.Linear(2, 1, bias=False)\n",
    "    \n",
    "    def forward(self, x):\n",
    "        output = self.fc(x)\n",
    "        return output.view(-1)"
   ]
  },
  {
   "cell_type": "code",
   "execution_count": null,
   "metadata": {
    "collapsed": true
   },
   "outputs": [],
   "source": [
    "model = Model()\n",
    "criterion = torch.nn.MSELoss()\n",
    "optimizer = torch.optim.SGD(model.parameters(), lr=0.04)"
   ]
  },
  {
   "cell_type": "code",
   "execution_count": null,
   "metadata": {},
   "outputs": [],
   "source": [
    "model"
   ]
  },
  {
   "cell_type": "code",
   "execution_count": null,
   "metadata": {},
   "outputs": [],
   "source": [
    "list(model.parameters())"
   ]
  },
  {
   "cell_type": "code",
   "execution_count": null,
   "metadata": {},
   "outputs": [],
   "source": [
    "loss3 = []\n",
    "for i in range(1000):\n",
    "    optimizer.zero_grad()\n",
    "    outputs = model(x)\n",
    "    \n",
    "    loss = criterion(outputs, y)\n",
    "    loss3.append(loss.item())\n",
    "    loss.backward()        \n",
    "\n",
    "    optimizer.step()"
   ]
  },
  {
   "cell_type": "code",
   "execution_count": null,
   "metadata": {},
   "outputs": [],
   "source": [
    "print(\"Minimal loss: {:.3f}\".format(loss3[-1]))\n",
    "plt.plot(range(len(loss3)), loss3)"
   ]
  },
  {
   "cell_type": "code",
   "execution_count": null,
   "metadata": {},
   "outputs": [],
   "source": [
    "outputs"
   ]
  },
  {
   "cell_type": "markdown",
   "metadata": {},
   "source": [
    "# Sequential\n",
    "\n",
    "For some simple models, we can just compose layers using `nn.Sequential`.\n",
    "Sometimes it's convenient, but often only for sub-parts of the network."
   ]
  },
  {
   "cell_type": "code",
   "execution_count": null,
   "metadata": {
    "collapsed": true
   },
   "outputs": [],
   "source": [
    "model = nn.Sequential(\n",
    "    nn.Linear(2, 1)\n",
    ")\n",
    "criterion = torch.nn.MSELoss()\n",
    "optimizer = torch.optim.SGD(model.parameters(), lr=1e-4)"
   ]
  },
  {
   "cell_type": "code",
   "execution_count": null,
   "metadata": {},
   "outputs": [],
   "source": [
    "model"
   ]
  },
  {
   "cell_type": "code",
   "execution_count": null,
   "metadata": {},
   "outputs": [],
   "source": [
    "loss4 = []\n",
    "for i in range(1000):\n",
    "    optimizer.zero_grad()\n",
    "    outputs = model(x)\n",
    "    \n",
    "    loss = criterion(outputs, y.unsqueeze(-1)) \n",
    "    # depending on other operations sometimes we need to be careful\n",
    "    # about shapes; sequueze/unsqueeze are common for PyTorch\n",
    "    loss4.append(loss.item())\n",
    "    loss.backward()        \n",
    "\n",
    "    optimizer.step()"
   ]
  },
  {
   "cell_type": "code",
   "execution_count": null,
   "metadata": {},
   "outputs": [],
   "source": [
    "print(\"Minimal loss: {:.3f}\".format(loss4[-1]))\n",
    "plt.plot(range(len(loss4)), loss4)"
   ]
  },
  {
   "cell_type": "code",
   "execution_count": null,
   "metadata": {
    "collapsed": true
   },
   "outputs": [],
   "source": []
  }
 ],
 "metadata": {
  "kernelspec": {
   "display_name": "Python [default]",
   "language": "python",
   "name": "python3"
  },
  "language_info": {
   "codemirror_mode": {
    "name": "ipython",
    "version": 3
   },
   "file_extension": ".py",
   "mimetype": "text/x-python",
   "name": "python",
   "nbconvert_exporter": "python",
   "pygments_lexer": "ipython3",
   "version": "3.5.4"
  }
 },
 "nbformat": 4,
 "nbformat_minor": 2
}
